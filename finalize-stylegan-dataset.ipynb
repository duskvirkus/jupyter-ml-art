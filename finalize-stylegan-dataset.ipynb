{
 "cells": [
  {
   "cell_type": "markdown",
   "id": "8721ab67-50b6-4cc3-ab15-5146808039fd",
   "metadata": {},
   "source": [
    "# Finalize StyleGAN Dataset\n",
    "\n",
    "by @duskvirkus\n",
    "\n",
    "A simple notebook for collecting images from many directories into one directory and verifing that they all match the desired dimensions."
   ]
  },
  {
   "cell_type": "markdown",
   "id": "7517f6e2-844d-4a4d-95b7-6fd16ba8a347",
   "metadata": {},
   "source": [
    "## Configurations\n",
    "Change this section for your dataset. Then run other cells you shouldn't need to change anything else unless you want to."
   ]
  },
  {
   "cell_type": "code",
   "execution_count": null,
   "id": "f0d28f0d-1f04-46c3-8dd3-78c9f793877b",
   "metadata": {},
   "outputs": [],
   "source": [
    "directories = [ # Add all directories you want to pull images from.\n",
    "    '/home/duskvirkus/dataset-creation/grimes-reviewed/faces-grimes-vid-3-reviewed',\n",
    "    '/home/duskvirkus/dataset-creation/grimes-reviewed/faces-grimes-vid-4-reviewed',\n",
    "    '/home/duskvirkus/dataset-creation/grimes-reviewed/faces-grimes-vid-5-reviewed',\n",
    "    '/home/duskvirkus/dataset-creation/grimes-reviewed/faces-grimes-vid-6-reviewed',\n",
    "    '/home/duskvirkus/dataset-creation/grimes-reviewed/faces-grimes-vid-7-reviewed',\n",
    "    '/home/duskvirkus/dataset-creation/grimes-reviewed/faces-grimes-vid-8-reviewed',\n",
    "    '/home/duskvirkus/dataset-creation/grimes-reviewed/faces-grimes-vid-9-reviewed',\n",
    "    '/home/duskvirkus/dataset-creation/grimes-reviewed/faces-grimes-vid-10-reviewed',\n",
    "    '/home/duskvirkus/dataset-creation/grimes-reviewed/faces-grimes-vid-11-reviewed',\n",
    "    '/home/duskvirkus/dataset-creation/grimes-reviewed/faces-grimes-vid-12-reviewed',\n",
    "    '/home/duskvirkus/dataset-creation/grimes-reviewed/faces-grimes-vid-17-reviewed',\n",
    "    '/home/duskvirkus/dataset-creation/grimes-reviewed/faces-grimes-vid-18-reviewed',\n",
    "    '/home/duskvirkus/dataset-creation/grimes-reviewed/faces-grimes-vid-19-reviewed',\n",
    "    '/home/duskvirkus/dataset-creation/grimes-reviewed/faces-grimes-vid-20-reviewed',\n",
    "    '/home/duskvirkus/dataset-creation/grimes-reviewed/faces-grimes-vid-21-reviewed',\n",
    "    '/home/duskvirkus/dataset-creation/grimes-reviewed/faces-grimes-vid-22-reviewed',\n",
    "    '/home/duskvirkus/dataset-creation/grimes-reviewed/faces-grimes-vid-24-reviewed',\n",
    "    '/home/duskvirkus/dataset-creation/grimes-reviewed/faces-grimes-vid-25-reviewed',\n",
    "]"
   ]
  },
  {
   "cell_type": "code",
   "execution_count": null,
   "id": "0fd399a9-bf09-461f-8545-e68622d62873",
   "metadata": {},
   "outputs": [],
   "source": [
    "dataset_name = 'grimes'\n",
    "dataset_version = 1\n",
    "destination_dir = '/home/duskvirkus/datasets/grimes-v1'\n",
    "desired_img_size = [1024, 1024] # [x, y] dimensions"
   ]
  },
  {
   "cell_type": "markdown",
   "id": "3b36b2d9-c739-45d9-be5c-500616e71460",
   "metadata": {},
   "source": [
    "## Download Dependencies and Imports"
   ]
  },
  {
   "cell_type": "code",
   "execution_count": null,
   "id": "d2272f5e-4800-4dc7-b401-aaef48d7c0a5",
   "metadata": {},
   "outputs": [],
   "source": [
    "import os\n",
    "\n",
    "root_dir = os.getcwd()\n",
    "\n",
    "vendor_path = os.path.join(root_dir, 'vendor')\n",
    "dst_path = os.path.join(vendor_path, 'dataset-tools');\n",
    "nbt_path = os.path.join(vendor_path, 'notebook-utils');\n",
    "\n",
    "if not os.path.exists(dst_path):\n",
    "    if not os.path.exists(vendor_path):\n",
    "        os.makedirs(vendor_path)\n",
    "    %cd {vendor_path}\n",
    "    !git clone https://github.com/duskvirkus/dataset-tools.git\n",
    "    %cd {root_dir}\n",
    "    \n",
    "if not os.path.exists(nbt_path):\n",
    "    %cd {vendor_path}\n",
    "    !git clone https://github.com/duskvirkus/notebook-utils\n",
    "    %cd {root_dir}\n",
    "    \n",
    "%cd {dst_path}\n",
    "!pip install -r requirements.txt\n",
    "%cd {root_dir}\n",
    "\n",
    "import cv2\n",
    "import sys\n",
    "sys.path.insert(1, nbt_path)\n",
    "from user_input import yes_or_no"
   ]
  },
  {
   "cell_type": "markdown",
   "id": "0e67a1f8-904f-4421-a7b4-66cd86409931",
   "metadata": {},
   "source": [
    "## Collate into one folder"
   ]
  },
  {
   "cell_type": "code",
   "execution_count": null,
   "id": "d55059a3-6b79-473f-80c9-5611ee4b3e9b",
   "metadata": {},
   "outputs": [],
   "source": [
    "if not os.path.exists(destination_dir):\n",
    "    os.makedirs(destination_dir)\n",
    "    \n",
    "def get_file_number(current, digits):\n",
    "    ret = str(current)\n",
    "    while (len(ret) < digits):\n",
    "        ret = '0' + ret\n",
    "    return ret\n",
    "    \n",
    "save_count = 0\n",
    "for directory in directories:\n",
    "    all_files = []\n",
    "    for root, dirs, files in os.walk(directory):\n",
    "        for file in files:\n",
    "            extension = file.split('.')[-1]\n",
    "            all_files.append([os.path.join(root,file), extension])\n",
    "    for i in range(len(all_files)):\n",
    "        file = all_files[i][0]\n",
    "        ext = all_files[i][1]\n",
    "        save_path = os.path.join(destination_dir, dataset_name + '-v' + str(dataset_version) + '-' + get_file_number(save_count, 5) + '.' + ext)\n",
    "        !cp {file} {save_path}\n",
    "        print(save_path + ' saved!')\n",
    "        save_count += 1"
   ]
  },
  {
   "cell_type": "markdown",
   "id": "4b5af409-395d-4ac9-9237-4e4861d6d84b",
   "metadata": {},
   "source": [
    "## Verify Image Size"
   ]
  },
  {
   "cell_type": "code",
   "execution_count": null,
   "id": "408896d1-244a-41d4-956e-18d1556cdaf0",
   "metadata": {},
   "outputs": [],
   "source": [
    "for root, dirs, files in os.walk(destination_dir):\n",
    "    for file in files:\n",
    "        path = os.path.join(root,file)\n",
    "        img = cv2.imread(path)\n",
    "        if img.shape[1] != desired_img_size[0] or img.shape[0] != desired_img_size[1]:\n",
    "            print('warning - file: ' + path + ' does not match desired size!')\n",
    "            if yes_or_no('Would you like to remove it from the dataset?'):\n",
    "                !rm {path}"
   ]
  },
  {
   "cell_type": "markdown",
   "id": "1c99858b-93bf-46c3-b851-120ac4193b5d",
   "metadata": {},
   "source": [
    "## Zip for Upload"
   ]
  },
  {
   "cell_type": "code",
   "execution_count": null,
   "id": "12685c57-5b8b-42ca-9004-4faa1e967689",
   "metadata": {},
   "outputs": [],
   "source": [
    "%cd {destination_dir}\n",
    "zip_name = '../' + dataset_name + '-v' + str(dataset_version) + '.zip'\n",
    "!zip {zip_name} *.*\n",
    "%cd {root_dir}"
   ]
  }
 ],
 "metadata": {
  "kernelspec": {
   "display_name": "jupyter-ml-art",
   "language": "python",
   "name": "jupyter-ml-art"
  },
  "language_info": {
   "codemirror_mode": {
    "name": "ipython",
    "version": 3
   },
   "file_extension": ".py",
   "mimetype": "text/x-python",
   "name": "python",
   "nbconvert_exporter": "python",
   "pygments_lexer": "ipython3",
   "version": "3.9.5"
  }
 },
 "nbformat": 4,
 "nbformat_minor": 5
}
